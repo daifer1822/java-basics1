{
  "nbformat": 4,
  "nbformat_minor": 0,
  "metadata": {
    "colab": {
      "provenance": [],
      "private_outputs": true,
      "collapsed_sections": []
    },
    "kernelspec": {
      "name": "java",
      "display_name": "java"
    }
  },
  "cells": [
    {
      "cell_type": "markdown",
      "source": [
        " # Java template for Colaboratory notebooks"
      ],
      "metadata": {
        "id": "v9hXfeq_tmoc"
      }
    },
    {
      "cell_type": "code",
      "metadata": {
        "id": "DC4pJkyNfOF1"
      },
      "source": [
        "!apt update -q\n",
        "!apt-get install -q openjdk-11-jdk-headless\n",
        "!curl -L https://github.com/SpencerPark/IJava/releases/download/v1.3.0/ijava-1.3.0.zip -o ijava-kernel.zip\n",
        "!unzip -q ijava-kernel.zip -d ijava-kernel && cd ijava-kernel && python3 install.py --sys-prefix\n",
        "!jupyter kernelspec list"
      ],
      "execution_count": null,
      "outputs": []
    },
    {
      "cell_type": "code",
      "metadata": {
        "id": "bF2jPn3RfpfR"
      },
      "source": [
        "System.out.println(\"Hello World\");\n"
      ],
      "execution_count": null,
      "outputs": []
    },
    {
      "cell_type": "code",
      "source": [
        "String printBinary(String binary, int blockSize, String separator) {\n",
        "        List<String> result = new ArrayList<>();\n",
        "        int index = 0;\n",
        "        while (index < binary.length()) {\n",
        "            result.add(binary.substring(index, Math.min(index + blockSize, binary.length())));\n",
        "            index += blockSize;\n",
        "        }\n",
        "\n",
        "        return result.stream().collect(java.util.stream.Collectors.joining(separator));\n",
        "    }\n",
        "void intToBin(int input){\n",
        "    String result = Integer.toBinaryString(input);\n",
        "    String resultWithPadding = String.format(\"%32s\", result).replaceAll(\" \", \"0\");\n",
        "    System.out.println(printBinary(resultWithPadding, 4, \" \")); \n",
        "}"
      ],
      "metadata": {
        "id": "vEixgpetTVuP"
      },
      "execution_count": null,
      "outputs": []
    },
    {
      "cell_type": "markdown",
      "source": [
        "Practica"
      ],
      "metadata": {
        "id": "3ORIP9c2P2mn"
      }
    },
    {
      "cell_type": "code",
      "source": [
        "long b0 = 122; long b1 = 1;//123\n",
        "int r = (int)(b0 + b1);\n",
        "System.out.println(r);"
      ],
      "metadata": {
        "id": "7asbHI50TUo3"
      },
      "execution_count": null,
      "outputs": []
    },
    {
      "cell_type": "code",
      "source": [
        "// Pregunta 2 y 3\n",
        "char c = 'a';\n",
        "//Respuesta \"a\" porque hemos puesto que c es igual a \"a\"\n",
        "\n",
        "int n = c;\n",
        "//Repuesta es 97\n",
        "\n",
        "short s = (short)c;\n",
        "// no podemos poner sin convirtirle en short\n",
        "// Hemos forcado que \"c\" sea un short\n",
        "\n",
        "System.out.println(c);\n",
        "System.out.println(n);\n",
        "System.out.println(s);\n",
        "\n"
      ],
      "metadata": {
        "id": "0i1jUkGrpihy"
      },
      "execution_count": null,
      "outputs": []
    },
    {
      "cell_type": "code",
      "source": [
        "//Pregunta 4\n",
        "short s=(short)32000; \n",
        "short s = (short)35000; \n",
        "//saldra -30536 porque 35000 excede su amximo.\n",
        "System.out.println(s);"
      ],
      "metadata": {
        "id": "HqP1EJuA4Gxb"
      },
      "execution_count": null,
      "outputs": []
    },
    {
      "cell_type": "code",
      "source": [
        "//Pregunta 5\n",
        "\n",
        "var v = 5.0;\n",
        "var v0 = 5;\n",
        "\n",
        "//var es una variable que contiene varios tipos como int,float etc\n",
        "var v1 = v + v0;\n",
        "\n",
        "//es una variable tipo flot debido a que v es igual a 5.0 al sumar lo combierte en float\n",
        "var b = 65;\n",
        "println(b);\n",
        "b = 'B';\n",
        "println(b);\n",
        "\n",
        "var a = 'A';\n",
        "println(a);\n",
        "a = 66;\n",
        "println(a);\n",
        "\n"
      ],
      "metadata": {
        "id": "0I5zz7ku5DZG"
      },
      "execution_count": null,
      "outputs": []
    },
    {
      "cell_type": "code",
      "source": [
        "//Pregunta 8\n",
        "char c = 'a', c1 = 1 ; //estamos sumando un char coon un int\n",
        "//char c2 = (c + c1) ;\n",
        "char c2 = (c += c1) ; // usamos el funcion +=\n",
        "\n",
        "System.out.println(c2);"
      ],
      "metadata": {
        "id": "9WZzOtUwBzqC"
      },
      "execution_count": null,
      "outputs": []
    },
    {
      "cell_type": "code",
      "source": [
        "\n",
        "//pregunta 9\n",
        "var h = 4 * 4f + (4.0 + 4); //es un double\n",
        "//float f = h; estamso asignando un double a un float\n",
        "float f = (float)h; //forcamos k se convierte en un float\n",
        "System.out.println(h);\n"
      ],
      "metadata": {
        "id": "l2EfgXFVKdFZ"
      },
      "execution_count": null,
      "outputs": []
    },
    {
      "cell_type": "code",
      "source": [
        "//Pregunta 10\n",
        "byte b0 = 4, b1 = -4, b2 = 12; \n",
        "boolean bol1 = b0 == b2 / 3;\n",
        "//boolean bol2 = b0 + b1; // da error porque no estamos usando condiciones >, <, <= , >= o ==\n",
        "\n",
        "boolean bol3 = b0 + b1 > b2;\n",
        "\n",
        "System.out.println(bol1);\n",
        "//System.out.println(bol2);\n",
        "System.out.println(bol3);"
      ],
      "metadata": {
        "id": "mJdIHOFIKgq5"
      },
      "execution_count": null,
      "outputs": []
    }
  ]
}